{
 "cells": [
  {
   "cell_type": "code",
   "execution_count": null,
   "id": "6dca57e5-9cdc-40e7-8082-ac7d6d7f4be8",
   "metadata": {},
   "outputs": [],
   "source": [
    "import os\n",
    "sample=input('1 = write, 2 = read, 3 = append')\n",
    "if sample=='1':\n",
    "    allfile= os.listdir()\n",
    "    while True:\n",
    "        print([x for x in allfile if x.endswith('.txt')])\n",
    "        fname=input('enter file name')\n",
    "        if fname in allfile:\n",
    "            print('file already exists')\n",
    "        else:\n",
    "            data= input('enter data to write')\n",
    "            file=open(fname,'w')\n",
    "            file.write(data)\n",
    "            file.close()\n",
    "            break\n",
    "elif sample=='2':\n",
    "    allfile=os.listdir()\n",
    "    while True:\n",
    "        print([x for x in allfile if x.endswith('.txt')])\n",
    "        fname=input('enter file name')\n",
    "        if fname in allfile:\n",
    "            file=open(fname,'r')\n",
    "            print(filename.read())\n",
    "            break\n",
    "        else:\n",
    "            print('no such file exists')\n",
    "        \n",
    "elif sample=='3':\n",
    "    allfile=os.listdir()\n",
    "    while True:\n",
    "        print([x for x in allfile if x.endswith('.txt')])\n",
    "        fname=input('enter file name')\n",
    "        if fname in allfile:\n",
    "            data= input('enter data to write')\n",
    "            file=open(fname,'a')\n",
    "            file.write(data)\n",
    "            file.close()\n",
    "            break\n",
    "        else:\n",
    "            print('no such file exists')   "
   ]
  }
 ],
 "metadata": {
  "kernelspec": {
   "display_name": "Python 3 (ipykernel)",
   "language": "python",
   "name": "python3"
  },
  "language_info": {
   "codemirror_mode": {
    "name": "ipython",
    "version": 3
   },
   "file_extension": ".py",
   "mimetype": "text/x-python",
   "name": "python",
   "nbconvert_exporter": "python",
   "pygments_lexer": "ipython3",
   "version": "3.12.0"
  }
 },
 "nbformat": 4,
 "nbformat_minor": 5
}
